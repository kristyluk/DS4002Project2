{
 "cells": [
  {
   "cell_type": "markdown",
   "metadata": {},
   "source": [
    "# Data Prep"
   ]
  },
  {
   "cell_type": "code",
   "execution_count": 60,
   "metadata": {},
   "outputs": [
    {
     "name": "stdout",
     "output_type": "stream",
     "text": [
      "Index(['DATE\\tLNS11300002'], dtype='object')\n",
      "Processed file saved as /workspace/DS4002Project2/DATA/laborforce/laborforce_new.csv.\n",
      "         DATE  LNS11300002  Year Month Day\n",
      "0  1948-01-01         32.0  1948    01  01\n",
      "1  1948-02-01         32.4  1948    02  01\n",
      "2  1948-03-01         32.1  1948    03  01\n",
      "3  1948-04-01         33.0  1948    04  01\n",
      "4  1948-05-01         32.0  1948    05  01\n",
      "         DATE  Female_LFPR  Year Month Day\n",
      "0  1948-01-01         32.0  1948    01  01\n",
      "1  1948-02-01         32.4  1948    02  01\n",
      "2  1948-03-01         32.1  1948    03  01\n",
      "3  1948-04-01         33.0  1948    04  01\n",
      "4  1948-05-01         32.0  1948    05  01\n",
      "          DATE  Female_LFPR  Year Month Day\n",
      "0   1948-01-01         32.0  1948    01  01\n",
      "12  1949-01-01         32.6  1949    01  01\n",
      "24  1950-01-01         33.4  1950    01  01\n",
      "36  1951-01-01         34.3  1951    01  01\n",
      "48  1952-01-01         35.0  1952    01  01\n"
     ]
    }
   ],
   "source": [
    "import pandas as pd\n",
    "import matplotlib as mlt\n",
    "import numpy as np\n",
    "\n",
    "# load labor force data\n",
    "\n",
    "df1 = pd.read_csv(\"/workspace/DS4002Project2/DATA/laborforce/laborforce.csv\")\n",
    "print( df1.columns )\n",
    "\n",
    "# we need the columns to be separated by commas. Let's do that here:\n",
    "\n",
    "input_file = '/workspace/DS4002Project2/DATA/laborforce/laborforce.csv'\n",
    "output_file = '/workspace/DS4002Project2/DATA/laborforce/laborforce_new.csv'\n",
    "\n",
    "with open(input_file, 'r') as infile, open(output_file, 'w') as outfile:\n",
    "    for line in infile:\n",
    "        cleaned_line = ','.join(line.split())\n",
    "        outfile.write(cleaned_line + '\\n')\n",
    "print(f\"Processed file saved as {output_file}.\")\n",
    "\n",
    "df = pd.read_csv( \"/workspace/DS4002Project2/DATA/laborforce/laborforce_new.csv\" )\n",
    "\n",
    "# Split \"Year\" column of the df into year, month, and day variables\n",
    "df[['Year', 'Month', 'Day']] = df['DATE'].str.split('-', expand=True)\n",
    "print(df.head()) # printing head -- we see that this successfully created new columns. We will use the \"Year\" column for merging\n",
    "\n",
    "# rename column to specify variable for female labor force participation rate:\n",
    "df = df.rename(columns={'LNS11300002': 'Female_LFPR'})\n",
    "print(df.head())\n",
    "\n",
    "# create version of the dataframe which only includes the first row for each year recorded, because we don't want duplicates\n",
    "df1_unique = df.drop_duplicates(subset='Year', keep='first')\n",
    "print(df1_unique.head()) # looks like this worked"
   ]
  },
  {
   "cell_type": "code",
   "execution_count": 61,
   "metadata": {},
   "outputs": [
    {
     "name": "stdout",
     "output_type": "stream",
     "text": [
      "All commas removed and saved to /workspace/DS4002Project2/DATA/pay_equity/pay_equity_new.csv.\n",
      "Index(['Year   Women's         Men's   Dollar        Percent'], dtype='object')\n",
      "Processed file saved as /workspace/DS4002Project2/DATA/pay_equity/pay_equity_new2.csv.\n",
      "5\n"
     ]
    }
   ],
   "source": [
    "\n",
    "# remove commas from pay equity data and save as new csv dataset\n",
    "\n",
    "pay_commas = '/workspace/DS4002Project2/DATA/pay_equity/pay_equity.csv'\n",
    "pay_new = '/workspace/DS4002Project2/DATA/pay_equity/pay_equity_new.csv'\n",
    "\n",
    "with open(pay_commas, 'r') as file:\n",
    "    file_data = file.read()\n",
    "file_data = file_data.replace(',', '')\n",
    "with open(pay_new, 'w') as file:\n",
    "    file.write(file_data)\n",
    "\n",
    "print(f\"All commas removed and saved to {pay_new}.\")\n",
    "\n",
    "df2 = pd.read_csv(\"/workspace/DS4002Project2/DATA/pay_equity/pay_equity_new.csv\")\n",
    "print( df2.columns ) # this shows that there are many spaces in our csv file, which need to be replaced with commas. Let's perform more cleaning:\n",
    "\n",
    "# replace all spaces in \"pay_equity_new.csv\" with commas, and save file as \"pay_equity_new2.csv\"\n",
    "\n",
    "input_file = '/workspace/DS4002Project2/DATA/pay_equity/pay_equity_new.csv'\n",
    "output_file = '/workspace/DS4002Project2/DATA/pay_equity/pay_equity_new2.csv'\n",
    "\n",
    "with open(input_file, 'r') as infile, open(output_file, 'w') as outfile:\n",
    "    for line in infile:\n",
    "        cleaned_line = ','.join(line.split())\n",
    "        outfile.write(cleaned_line + '\\n')\n",
    "print(f\"Processed file saved as {output_file}.\")\n",
    "\n",
    "df2 = pd.read_csv(\"/workspace/DS4002Project2/DATA/pay_equity/pay_equity_new2.csv\")\n",
    "\n",
    "# rename \"percent\" column to \"wage ratio\". This column shows the percentage of a dollar that women receive for each dollar earned by a man\n",
    "df2 = df2.rename(columns={'Percent': 'Wage_ratio'})\n",
    "\n",
    "print( len(df2.columns) )\n"
   ]
  },
  {
   "cell_type": "code",
   "execution_count": 62,
   "metadata": {},
   "outputs": [
    {
     "name": "stdout",
     "output_type": "stream",
     "text": [
      "   Year  Bachelor_percentage Std_error\n",
      "0  1940                  3.8     (---)\n",
      "1  1950                  5.2     (---)\n",
      "2  1960                  5.8     (---)\n",
      "3  1970                  8.2     (---)\n",
      "4  1980                 13.6    (0.20)\n",
      "Index(['Year', 'Bachelor_percentage', 'Std_error'], dtype='object')\n",
      "Number of columns: 3\n"
     ]
    }
   ],
   "source": [
    "# clean education csv file.\n",
    "\n",
    "input_file = '/workspace/DS4002Project2/DATA/education_female/education_female.csv'\n",
    "output_file = '/workspace/DS4002Project2/DATA/education_female/education_female_new.csv'\n",
    "def process_line(line):\n",
    "    return ','.join(line.lstrip().split())\n",
    "\n",
    "with open(input_file, 'r') as infile, open(output_file, 'w') as outfile:\n",
    "    for line in infile:\n",
    "        cleaned_line = process_line(line)\n",
    "        outfile.write(cleaned_line + '\\n')\n",
    "\n",
    "df3 = pd.read_csv( \"/workspace/DS4002Project2/DATA/education_female/education_female_new.csv\" )\n",
    "\n",
    "# looking at the dataset, there are some weird slashes occuring with some of the values. Let's remove those:\n",
    "df3['Year'] = df3['Year'].str.replace(r'\\\\4\\\\', '', regex=True)\n",
    "print(df3.head()) # printing out the head, the values look normal now\n",
    "print(df3.columns)\n",
    "print(f\"Number of columns: {len(df3.columns)}\")"
   ]
  },
  {
   "cell_type": "code",
   "execution_count": 58,
   "metadata": {},
   "outputs": [
    {
     "name": "stdout",
     "output_type": "stream",
     "text": [
      "   Year  Female_LFPR  Bachelor_percentage Wage_ratio\n",
      "0  1960         37.0                  5.8      60.7%\n",
      "1  1970         43.3                  8.2      59.4%\n",
      "2  1980         51.6                 13.6      60.2%\n",
      "3  1990         57.7                 18.4      71.6%\n",
      "4  1995         58.8                 20.2      71.4%\n"
     ]
    }
   ],
   "source": [
    "# Merge the datasets on the \"Year\" variable\n",
    "\n",
    "# select the columns that we want to include from each dataframe:\n",
    "labor_df = df_unique[ [\"Year\", \"Female_LFPR\"]]\n",
    "education_df = df3[ [\"Year\", \"Bachelor_percentage\"] ]\n",
    "pay_df = df2[ [\"Year\", \"Wage_ratio\"] ]\n",
    "\n",
    "merged_df = pd.merge(labor_df, education_df, on='Year')\n",
    "merged_df = pd.merge(merged_df, pay_df, on='Year')\n",
    "\n",
    "# print head of merged dataset:\n",
    "print( merged_df.head() )\n",
    "\n",
    "# save the merged dataframe to a csv file:\n",
    "merged_df.to_csv(\"/workspace/DS4002Project2/DATA/merged.csv\", index=False)\n",
    "\n"
   ]
  },
  {
   "cell_type": "code",
   "execution_count": null,
   "metadata": {},
   "outputs": [],
   "source": []
  }
 ],
 "metadata": {
  "kernelspec": {
   "display_name": "Python 3",
   "language": "python",
   "name": "python3"
  },
  "language_info": {
   "codemirror_mode": {
    "name": "ipython",
    "version": 3
   },
   "file_extension": ".py",
   "mimetype": "text/x-python",
   "name": "python",
   "nbconvert_exporter": "python",
   "pygments_lexer": "ipython3",
   "version": "3.12.6"
  }
 },
 "nbformat": 4,
 "nbformat_minor": 2
}
